{
 "cells": [
  {
   "cell_type": "code",
   "execution_count": 69,
   "id": "f5e44f74-1606-4e96-8263-41dd012e286e",
   "metadata": {
    "tags": []
   },
   "outputs": [],
   "source": [
    "import pandas as pd\n",
    "import plotly.graph_objs as go\n",
    "import plotly.offline as pyo\n",
    "from plotly.subplots import make_subplots\n",
    "from scipy.signal import find_peaks\n",
    "import numpy as np\n",
    "import os"
   ]
  },
  {
   "cell_type": "code",
   "execution_count": 179,
   "id": "8e5eb36e-01bb-45e1-a2ce-6316d7b06bc5",
   "metadata": {
    "tags": []
   },
   "outputs": [],
   "source": [
    "## helper functions \n",
    "def create_line_plot(df, prod_cols, arps_cols , chart_title, html_file_path, show_peaks = False):\n",
    "    \"\"\"\n",
    "    Létrehoz egy vonaldiagramot a megadott DataFrame és oszlopok alapján, majd elmenti HTML formátumban.\n",
    "    Args:\n",
    "        df: A DataFrame, amiből az adatokat ábrázoljuk.\n",
    "        prod_cols: A prod oszlopok listája, amiket meg szeretnénk jeleníteni a diagramon.\n",
    "        arps_cols: Az aprs oszlopok listája, amiket meg szeretnénk jeleníteni a diagramon.\n",
    "        arps_cols: Az aprs oszlopok listája, amiket meg szeretnénk jeleníteni a diagramon.\n",
    "        chart_title: Az ábra címe.\n",
    "        html_file_path: Az elmentendő HTML fájl elérési útvonala.\n",
    "        show_peaks: amennyiben megtaláltuk a csúcsokat azt ki is rajzolhatjuk.\n",
    "    Returns:\n",
    "    \"\"\"\n",
    "\n",
    "    fig = make_subplots(specs=[[{\"secondary_y\": True}]])\n",
    "\n",
    "    # Az egyes adatsorok (trace-ek) hozzáadása az ábrához\n",
    "    fig.add_trace(go.Scatter(x=df.index, y=df['BOE'], mode='lines', name='BOE'),secondary_y=False)\n",
    "    \n",
    "    if show_peaks==True:\n",
    "        fig.add_trace(go.Scatter(x=df.loc[df['peaks']>0,:].index, y=df.loc[df['peaks']>0,'peaks'], mode='markers', name='peaks'),secondary_y=True)\n",
    "       \n",
    "    # prod oszlopok kumulált ábrázolása\n",
    "    for i,col in enumerate(prod_cols):\n",
    "        first_valid_index = df[arps_cols[i]].first_valid_index()\n",
    "        fig.add_trace(go.Scatter(x=df.loc[first_valid_index:,:].index, y=df.loc[first_valid_index:,prod_cols[:i+1]].sum(axis=1), mode='lines', name=col),secondary_y=False)\n",
    "    \n",
    "    # arps oszlopok kumulált ábrázolása   \n",
    "    for i,col in enumerate(arps_cols):\n",
    "        first_valid_index = df[arps_cols[i]].first_valid_index()\n",
    "        fig.add_trace( go.Scatter(x=df.loc[first_valid_index:,:].index, y=df.loc[first_valid_index:,arps_cols[:i+1]].sum(axis=1), mode='lines', name=col),secondary_y=False)\n",
    "    \n",
    "    # Ábra beállításai\n",
    "    layout = go.Layout(title=chart_title)   \n",
    "    \n",
    "    # HTML fájlba mentés\n",
    "    pyo.plot(fig, filename=html_file_path, auto_open=False)\n",
    "    \n",
    "def find_peaks_points(df ):    \n",
    "    \n",
    "    \"\"\"\n",
    "    Csúcsok keresése egy adatsorban (df) csúcsok alapján.\n",
    "    \n",
    "    Args:\n",
    "      df: Pandas adatsor, amelynek 'BOE' nevű oszlopában az értékek szerepelnek.\n",
    "    \n",
    "    Returns:\n",
    "      df: A bemeneti adatsor kibővítve a következő oszlopokkal:\n",
    "        * `peaks`: Bináris jelölés a csúcsokra (1 - csúcs, 0 - nem csúcs).\n",
    "    \"\"\"\n",
    "    \n",
    "    peaks, _ = find_peaks(df['BOE'], height=100, threshold = 0.5, distance=17, prominence=None, width=3)    \n",
    "    # Új oszlopok inicializálása\n",
    "    df['peaks'] = 0  # Bináris jelölés a csúcsokra\n",
    "    \n",
    "    # Végigiterálás a csúcsokon és az eltérések számítása\n",
    "    for peak in peaks:\n",
    "        df.at[df.index[peak], 'peaks'] = 1  # Jelöljük a csúcsot  \n",
    "    \n",
    "    return df"
   ]
  },
  {
   "cell_type": "code",
   "execution_count": 104,
   "id": "c9ba8330-645e-4e85-ac2f-c2f5af1d88ed",
   "metadata": {
    "tags": []
   },
   "outputs": [],
   "source": [
    "params = {\n",
    "          'file_path':'dataset/',\n",
    "          'save_html_path':'plots/'\n",
    "         }"
   ]
  },
  {
   "cell_type": "code",
   "execution_count": 105,
   "id": "795f3e8d-448a-4444-93d5-c0b2f3a8c821",
   "metadata": {
    "tags": []
   },
   "outputs": [],
   "source": [
    "# kesessük meg az összes adat nevét\n",
    "file_list = [file for file in os.listdir(params['file_path']) if 'pkl' in file]"
   ]
  },
  {
   "cell_type": "code",
   "execution_count": 106,
   "id": "6d75793b-86e8-48c8-be9d-6ea864127ecd",
   "metadata": {
    "tags": []
   },
   "outputs": [],
   "source": [
    "#olvassunk be egy adatot\n",
    "i = 2851\n",
    "file = file_list[i]\n",
    "df = pd.read_pickle(params['file_path'] + file)"
   ]
  },
  {
   "cell_type": "code",
   "execution_count": 107,
   "id": "38491f8d-dcb9-4c37-a39f-0190ef81328f",
   "metadata": {
    "tags": []
   },
   "outputs": [],
   "source": [
    "# keressük meg a plot oszlopait\n",
    "prod_cols = [col for col in df.columns if (('prod' in col) and ('_' not in col))]\n",
    "arps_cols = [col for col in df.columns if (('arps' in col) and ('_' not in col))]\n",
    "used_cols = ['BOE']"
   ]
  },
  {
   "cell_type": "code",
   "execution_count": 108,
   "id": "aec705d6-3993-41ed-b582-f7873009af82",
   "metadata": {
    "scrolled": true,
    "tags": []
   },
   "outputs": [],
   "source": [
    "# keszitsünk egy plot-ot és mentsük le azt\n",
    "chart_title = file.split('.')[0]\n",
    "html_file_path = params['save_html_path'] + chart_title + '.html'\n",
    "create_line_plot(df,prod_cols, arps_cols , chart_title, html_file_path)"
   ]
  },
  {
   "cell_type": "code",
   "execution_count": 180,
   "id": "99f5b0db-9ff2-4394-b003-e30b1c31edfa",
   "metadata": {},
   "outputs": [],
   "source": [
    "# keressük meg a csúcsokat\n",
    "df = find_peaks_points(df)\n",
    "used_cols = ['BOE','peaks']"
   ]
  },
  {
   "cell_type": "code",
   "execution_count": 181,
   "id": "575a5ad2-9014-42b1-95fb-e157b54b7882",
   "metadata": {
    "tags": []
   },
   "outputs": [],
   "source": [
    "# keszitsünk egy plot-ot és mentsük le azt\n",
    "html_file_path = params['save_html_path'] + chart_title + '_with_peaks' +  '.html'\n",
    "create_line_plot(df,prod_cols, arps_cols , chart_title, html_file_path, True)"
   ]
  }
 ],
 "metadata": {
  "kernelspec": {
   "display_name": "Python 3 (ipykernel)",
   "language": "python",
   "name": "python3"
  },
  "language_info": {
   "codemirror_mode": {
    "name": "ipython",
    "version": 3
   },
   "file_extension": ".py",
   "mimetype": "text/x-python",
   "name": "python",
   "nbconvert_exporter": "python",
   "pygments_lexer": "ipython3",
   "version": "3.11.5"
  }
 },
 "nbformat": 4,
 "nbformat_minor": 5
}
