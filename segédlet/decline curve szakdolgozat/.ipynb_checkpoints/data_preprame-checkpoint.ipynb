{
 "cells": [
  {
   "cell_type": "code",
   "id": "f5e44f74-1606-4e96-8263-41dd012e286e",
   "metadata": {
    "tags": [],
    "ExecuteTime": {
     "end_time": "2024-05-21T14:59:09.240429Z",
     "start_time": "2024-05-21T14:59:09.235870Z"
    }
   },
   "source": [
    "import pandas as pd\n",
    "import plotly.graph_objs as go\n",
    "from plotly.subplots import make_subplots\n",
    "from scipy.signal import find_peaks\n",
    "import numpy as np\n",
    "import os\n",
    "import plotly.offline as pyo"
   ],
   "outputs": [],
   "execution_count": 67
  },
  {
   "cell_type": "code",
   "id": "8e5eb36e-01bb-45e1-a2ce-6316d7b06bc5",
   "metadata": {
    "tags": [],
    "ExecuteTime": {
     "end_time": "2024-05-21T14:59:09.274254Z",
     "start_time": "2024-05-21T14:59:09.259427Z"
    }
   },
   "source": [
    "## helper functions \n",
    "def create_line_plot(df, prod_cols, arps_cols , chart_title, html_file_path, show_peaks = False):\n",
    "    \"\"\"\n",
    "    Létrehoz egy vonaldiagramot a megadott DataFrame és oszlopok alapján, majd elmenti HTML formátumban.\n",
    "    Args:\n",
    "        df: A DataFrame, amiből az adatokat ábrázoljuk.\n",
    "        prod_cols: A prod oszlopok listája, amiket meg szeretnénk jeleníteni a diagramon.\n",
    "        arps_cols: Az aprs oszlopok listája, amiket meg szeretnénk jeleníteni a diagramon.\n",
    "        arps_cols: Az aprs oszlopok listája, amiket meg szeretnénk jeleníteni a diagramon.\n",
    "        chart_title: Az ábra címe.\n",
    "        html_file_path: Az elmentendő HTML fájl elérési útvonala.\n",
    "        show_peaks: amennyiben megtaláltuk a csúcsokat azt ki is rajzolhatjuk.\n",
    "    Returns:\n",
    "    \"\"\"\n",
    "\n",
    "    fig = make_subplots(specs=[[{\"secondary_y\": True}]])\n",
    "\n",
    "    # Az egyes adatsorok (trace-ek) hozzáadása az ábrához\n",
    "    fig.add_trace(go.Scatter(x=df.index, y=df['BOE'], mode='lines', name='BOE'),secondary_y=False)\n",
    "    \n",
    "    if show_peaks==True:\n",
    "        fig.add_trace(go.Scatter(x=df.loc[df['peaks']>0,:].index, y=df.loc[df['peaks']>0,'peaks'], mode='markers', name='peaks'),secondary_y=True)\n",
    "       \n",
    "    # prod oszlopok kumulált ábrázolása\n",
    "    for i,col in enumerate(prod_cols):\n",
    "        first_valid_index = df[arps_cols[i]].first_valid_index()\n",
    "        fig.add_trace(go.Scatter(x=df.loc[first_valid_index:,:].index, y=df.loc[first_valid_index:,prod_cols[:i+1]].sum(axis=1), mode='lines', name=col),secondary_y=False)\n",
    "    \n",
    "    # arps oszlopok kumulált ábrázolása   \n",
    "    for i,col in enumerate(arps_cols):\n",
    "        first_valid_index = df[arps_cols[i]].first_valid_index()\n",
    "        fig.add_trace( go.Scatter(x=df.loc[first_valid_index:,:].index, y=df.loc[first_valid_index:,arps_cols[:i+1]].sum(axis=1), mode='lines', name=col),secondary_y=False)\n",
    "    \n",
    "    # Ábra beállításai\n",
    "    layout = go.Layout(title=chart_title)   \n",
    "    \n",
    "    # HTML fájlba mentés\n",
    "    pyo.plot(fig, filename=html_file_path, auto_open=False)\n",
    "    \n",
    "def find_peaks_points(df ):    \n",
    "    \n",
    "    \"\"\"\n",
    "    Csúcsok keresése egy adatsorban (df) csúcsok alapján.\n",
    "    \n",
    "    Args:\n",
    "      df: Pandas adatsor, amelynek 'BOE' nevű oszlopában az értékek szerepelnek.\n",
    "    \n",
    "    Returns:\n",
    "      df: A bemeneti adatsor kibővítve a következő oszlopokkal:\n",
    "        * `peaks`: Bináris jelölés a csúcsokra (1 - csúcs, 0 - nem csúcs).\n",
    "    \"\"\"\n",
    "    \n",
    "    peaks, _ = find_peaks(df['BOE'], height=100, threshold = 0.5, distance=17, prominence=None, width=3)    \n",
    "    # Új oszlopok inicializálása\n",
    "    df['peaks'] = 0  # Bináris jelölés a csúcsokra\n",
    "    \n",
    "    # Végigiterálás a csúcsokon és az eltérések számítása\n",
    "    for peak in peaks:\n",
    "        df.at[df.index[peak], 'peaks'] = 1  # Jelöljük a csúcsot  \n",
    "    \n",
    "    return df"
   ],
   "outputs": [],
   "execution_count": 68
  },
  {
   "cell_type": "code",
   "id": "c9ba8330-645e-4e85-ac2f-c2f5af1d88ed",
   "metadata": {
    "tags": [],
    "ExecuteTime": {
     "end_time": "2024-05-21T14:59:09.301208Z",
     "start_time": "2024-05-21T14:59:09.296244Z"
    }
   },
   "source": [
    "params = {\n",
    "          'file_path':'dataset/',\n",
    "          'save_html_path':'plots/'\n",
    "         }"
   ],
   "outputs": [],
   "execution_count": 69
  },
  {
   "cell_type": "code",
   "id": "795f3e8d-448a-4444-93d5-c0b2f3a8c821",
   "metadata": {
    "tags": [],
    "ExecuteTime": {
     "end_time": "2024-05-21T14:59:09.327626Z",
     "start_time": "2024-05-21T14:59:09.319208Z"
    }
   },
   "source": [
    "# kesessük meg az összes adat nevét\n",
    "file_list = [file for file in os.listdir(params['file_path']) if 'pkl' in file]"
   ],
   "outputs": [],
   "execution_count": 70
  },
  {
   "cell_type": "code",
   "id": "6d75793b-86e8-48c8-be9d-6ea864127ecd",
   "metadata": {
    "tags": [],
    "ExecuteTime": {
     "end_time": "2024-05-21T14:59:09.344823Z",
     "start_time": "2024-05-21T14:59:09.337627Z"
    }
   },
   "source": [
    "#olvassunk be egy adatot\n",
    "i = 2851\n",
    "file = file_list[i]\n",
    "df = pd.read_pickle(params['file_path'] + file)"
   ],
   "outputs": [],
   "execution_count": 71
  },
  {
   "cell_type": "code",
   "id": "38491f8d-dcb9-4c37-a39f-0190ef81328f",
   "metadata": {
    "tags": [],
    "ExecuteTime": {
     "end_time": "2024-05-21T14:59:09.368410Z",
     "start_time": "2024-05-21T14:59:09.361823Z"
    }
   },
   "source": [
    "# keressük meg a plot oszlopait\n",
    "prod_cols = [col for col in df.columns if (('prod' in col) and ('_' not in col))]\n",
    "arps_cols = [col for col in df.columns if (('arps' in col) and ('_' not in col))]\n",
    "used_cols = ['BOE']"
   ],
   "outputs": [],
   "execution_count": 72
  },
  {
   "cell_type": "code",
   "id": "aec705d6-3993-41ed-b582-f7873009af82",
   "metadata": {
    "scrolled": true,
    "tags": [],
    "ExecuteTime": {
     "end_time": "2024-05-21T14:59:09.485094Z",
     "start_time": "2024-05-21T14:59:09.383338Z"
    }
   },
   "source": [
    "# keszitsünk egy plot-ot és mentsük le azt\n",
    "chart_title = file.split('.')[0]\n",
    "html_file_path = params['save_html_path'] + chart_title + '.html'\n",
    "create_line_plot(df,prod_cols, arps_cols , chart_title, html_file_path)"
   ],
   "outputs": [
    {
     "ename": "AttributeError",
     "evalue": "module 'plotly.graph_objs' has no attribute 'plot'",
     "output_type": "error",
     "traceback": [
      "\u001B[1;31m---------------------------------------------------------------------------\u001B[0m",
      "\u001B[1;31mAttributeError\u001B[0m                            Traceback (most recent call last)",
      "Cell \u001B[1;32mIn[73], line 4\u001B[0m\n\u001B[0;32m      2\u001B[0m chart_title \u001B[38;5;241m=\u001B[39m file\u001B[38;5;241m.\u001B[39msplit(\u001B[38;5;124m'\u001B[39m\u001B[38;5;124m.\u001B[39m\u001B[38;5;124m'\u001B[39m)[\u001B[38;5;241m0\u001B[39m]\n\u001B[0;32m      3\u001B[0m html_file_path \u001B[38;5;241m=\u001B[39m params[\u001B[38;5;124m'\u001B[39m\u001B[38;5;124msave_html_path\u001B[39m\u001B[38;5;124m'\u001B[39m] \u001B[38;5;241m+\u001B[39m chart_title \u001B[38;5;241m+\u001B[39m \u001B[38;5;124m'\u001B[39m\u001B[38;5;124m.html\u001B[39m\u001B[38;5;124m'\u001B[39m\n\u001B[1;32m----> 4\u001B[0m \u001B[43mcreate_line_plot\u001B[49m\u001B[43m(\u001B[49m\u001B[43mdf\u001B[49m\u001B[43m,\u001B[49m\u001B[43mprod_cols\u001B[49m\u001B[43m,\u001B[49m\u001B[43m \u001B[49m\u001B[43marps_cols\u001B[49m\u001B[43m \u001B[49m\u001B[43m,\u001B[49m\u001B[43m \u001B[49m\u001B[43mchart_title\u001B[49m\u001B[43m,\u001B[49m\u001B[43m \u001B[49m\u001B[43mhtml_file_path\u001B[49m\u001B[43m)\u001B[49m\n",
      "Cell \u001B[1;32mIn[68], line 38\u001B[0m, in \u001B[0;36mcreate_line_plot\u001B[1;34m(df, prod_cols, arps_cols, chart_title, html_file_path, show_peaks)\u001B[0m\n\u001B[0;32m     35\u001B[0m layout \u001B[38;5;241m=\u001B[39m go\u001B[38;5;241m.\u001B[39mLayout(title\u001B[38;5;241m=\u001B[39mchart_title)   \n\u001B[0;32m     37\u001B[0m \u001B[38;5;66;03m# HTML fájlba mentés\u001B[39;00m\n\u001B[1;32m---> 38\u001B[0m \u001B[43mgo\u001B[49m\u001B[38;5;241;43m.\u001B[39;49m\u001B[43mplot\u001B[49m(fig, filename\u001B[38;5;241m=\u001B[39mhtml_file_path, auto_open\u001B[38;5;241m=\u001B[39m\u001B[38;5;28;01mFalse\u001B[39;00m)\n",
      "File \u001B[1;32m~\\AppData\\Local\\Programs\\Python\\Python311\\Lib\\site-packages\\plotly\\graph_objs\\__init__.py:299\u001B[0m, in \u001B[0;36m__getattr__\u001B[1;34m(import_name)\u001B[0m\n\u001B[0;32m    295\u001B[0m         \u001B[38;5;28;01mfrom\u001B[39;00m \u001B[38;5;21;01m.\u001B[39;00m\u001B[38;5;21;01m.\u001B[39;00m\u001B[38;5;21;01mmissing_ipywidgets\u001B[39;00m \u001B[38;5;28;01mimport\u001B[39;00m FigureWidget\n\u001B[0;32m    297\u001B[0m         \u001B[38;5;28;01mreturn\u001B[39;00m FigureWidget\n\u001B[1;32m--> 299\u001B[0m \u001B[38;5;28;01mreturn\u001B[39;00m \u001B[43morig_getattr\u001B[49m\u001B[43m(\u001B[49m\u001B[43mimport_name\u001B[49m\u001B[43m)\u001B[49m\n",
      "File \u001B[1;32m~\\AppData\\Local\\Programs\\Python\\Python311\\Lib\\site-packages\\_plotly_utils\\importers.py:39\u001B[0m, in \u001B[0;36mrelative_import.<locals>.__getattr__\u001B[1;34m(import_name)\u001B[0m\n\u001B[0;32m     36\u001B[0m     class_module \u001B[38;5;241m=\u001B[39m importlib\u001B[38;5;241m.\u001B[39mimport_module(rel_module, parent_name)\n\u001B[0;32m     37\u001B[0m     \u001B[38;5;28;01mreturn\u001B[39;00m \u001B[38;5;28mgetattr\u001B[39m(class_module, class_name)\n\u001B[1;32m---> 39\u001B[0m \u001B[38;5;28;01mraise\u001B[39;00m \u001B[38;5;167;01mAttributeError\u001B[39;00m(\n\u001B[0;32m     40\u001B[0m     \u001B[38;5;124m\"\u001B[39m\u001B[38;5;124mmodule \u001B[39m\u001B[38;5;132;01m{__name__!r}\u001B[39;00m\u001B[38;5;124m has no attribute \u001B[39m\u001B[38;5;132;01m{name!r}\u001B[39;00m\u001B[38;5;124m\"\u001B[39m\u001B[38;5;241m.\u001B[39mformat(\n\u001B[0;32m     41\u001B[0m         name\u001B[38;5;241m=\u001B[39mimport_name, \u001B[38;5;18m__name__\u001B[39m\u001B[38;5;241m=\u001B[39mparent_name\n\u001B[0;32m     42\u001B[0m     )\n\u001B[0;32m     43\u001B[0m )\n",
      "\u001B[1;31mAttributeError\u001B[0m: module 'plotly.graph_objs' has no attribute 'plot'"
     ]
    }
   ],
   "execution_count": 73
  },
  {
   "cell_type": "code",
   "id": "99f5b0db-9ff2-4394-b003-e30b1c31edfa",
   "metadata": {},
   "source": [
    "# keressük meg a csúcsokat\n",
    "df = find_peaks_points(df)\n",
    "used_cols = ['BOE','peaks']"
   ],
   "outputs": [],
   "execution_count": null
  },
  {
   "cell_type": "code",
   "id": "575a5ad2-9014-42b1-95fb-e157b54b7882",
   "metadata": {
    "tags": []
   },
   "source": [
    "# keszitsünk egy plot-ot és mentsük le azt\n",
    "html_file_path = params['save_html_path'] + chart_title + '_with_peaks' +  '.html'\n",
    "create_line_plot(df,prod_cols, arps_cols , chart_title, html_file_path, True)"
   ],
   "outputs": [],
   "execution_count": null
  }
 ],
 "metadata": {
  "kernelspec": {
   "display_name": "Python 3 (ipykernel)",
   "language": "python",
   "name": "python3"
  },
  "language_info": {
   "codemirror_mode": {
    "name": "ipython",
    "version": 3
   },
   "file_extension": ".py",
   "mimetype": "text/x-python",
   "name": "python",
   "nbconvert_exporter": "python",
   "pygments_lexer": "ipython3",
   "version": "3.11.5"
  }
 },
 "nbformat": 4,
 "nbformat_minor": 5
}
